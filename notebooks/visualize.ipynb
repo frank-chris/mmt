{
 "cells": [
  {
   "cell_type": "markdown",
   "metadata": {},
   "source": [
    "### Import libraries"
   ]
  },
  {
   "cell_type": "code",
   "execution_count": 1,
   "metadata": {},
   "outputs": [],
   "source": [
    "import plotly.express as px\n",
    "import numpy as np\n",
    "import pickle as pkl\n",
    "import warnings"
   ]
  },
  {
   "cell_type": "markdown",
   "metadata": {},
   "source": [
    "### Functions to read pickle files and plot the data"
   ]
  },
  {
   "cell_type": "code",
   "execution_count": 2,
   "metadata": {},
   "outputs": [],
   "source": [
    "def read_pkl(file):\n",
    "    \"\"\"\n",
    "    Read a pickle file and return the data\n",
    "    \"\"\"\n",
    "    with open(file, 'rb') as f:\n",
    "        return pkl.load(f)\n",
    "    \n",
    "def plot(file_1, file_2, label_1, label_2):\n",
    "    \"\"\"\n",
    "    Plot the data from 2 pickle files and report MSE\n",
    "    \"\"\"\n",
    "    data_1 = read_pkl(file_1)\n",
    "    data_2 = read_pkl(file_2)\n",
    "\n",
    "    common_samples = set(data_1.keys()).intersection(set(data_2.keys()))\n",
    "\n",
    "    variables = data_1[list(common_samples)[0]].keys()\n",
    "\n",
    "    for variable in variables:\n",
    "        x_1, x_2 = [], []\n",
    "        y_1, y_2 = [], []\n",
    "        c_1, c_2 = [], []\n",
    "        for sample in sorted(common_samples):\n",
    "            x_1.append(int(sample.split('.')[0]))\n",
    "            x_2.append(int(sample.split('.')[0]))\n",
    "            y_1.append(data_1[sample][variable])\n",
    "            y_2.append(data_2[sample][variable])\n",
    "            c_1.append(label_1)\n",
    "            c_2.append(label_2)\n",
    "        with warnings.catch_warnings():\n",
    "            warnings.simplefilter(action='ignore', category=FutureWarning)\n",
    "            fig = px.scatter(x=x_1 + x_2, y=y_1 + y_2, color=c_1 + c_2,\n",
    "                            trendline=\"lowess\", trendline_options=dict(frac=0.3))\n",
    "        fig.update_layout(title=str.capitalize(variable),\n",
    "                        xaxis_title='Sample',\n",
    "                        yaxis_title='Information Flow',\n",
    "                        legend_title_text = '',\n",
    "                        width=1000,\n",
    "                        height=500,\n",
    "                        font_size=18,)\n",
    "        fig.show()\n",
    "        print(f'MSE for {variable}: {np.mean((np.array(y_1) - np.array(y_2))**2)}\\n')\n"
   ]
  },
  {
   "cell_type": "markdown",
   "metadata": {},
   "source": [
    "## Experiment 1: Score dataset"
   ]
  },
  {
   "cell_type": "code",
   "execution_count": null,
   "metadata": {},
   "outputs": [],
   "source": [
    "plot('../results/score_positive.pkl', '../results/score_negative.pkl', 'positive', 'negative')"
   ]
  },
  {
   "cell_type": "markdown",
   "metadata": {},
   "source": [
    "## Experiment 2: URMP dataset"
   ]
  },
  {
   "cell_type": "code",
   "execution_count": null,
   "metadata": {},
   "outputs": [],
   "source": [
    "plot('../results/urmp_positive.pkl', '../results/urmp_negative.pkl', 'positive', 'negative')"
   ]
  },
  {
   "cell_type": "markdown",
   "metadata": {},
   "source": [
    "## Experiment 3: Self-enhancement bias"
   ]
  },
  {
   "cell_type": "code",
   "execution_count": null,
   "metadata": {},
   "outputs": [],
   "source": [
    "plot('../results/mtmt.pkl', '../results/amt.pkl', 'MTMT', 'AMT')"
   ]
  },
  {
   "cell_type": "markdown",
   "metadata": {},
   "source": [
    "## Experiment 4: Positional bias"
   ]
  },
  {
   "cell_type": "code",
   "execution_count": null,
   "metadata": {},
   "outputs": [],
   "source": [
    "plot('../results/XY.pkl', '../results/YX.pkl', 'XY', 'YX')"
   ]
  }
 ],
 "metadata": {
  "kernelspec": {
   "display_name": "mtmt",
   "language": "python",
   "name": "python3"
  },
  "language_info": {
   "codemirror_mode": {
    "name": "ipython",
    "version": 3
   },
   "file_extension": ".py",
   "mimetype": "text/x-python",
   "name": "python",
   "nbconvert_exporter": "python",
   "pygments_lexer": "ipython3",
   "version": "3.9.18"
  }
 },
 "nbformat": 4,
 "nbformat_minor": 2
}
