{
 "cells": [
  {
   "cell_type": "code",
   "execution_count": 1,
   "metadata": {},
   "outputs": [],
   "source": [
    "import muspy\n",
    "import os\n",
    "\n",
    "input_folder_1 = \"../data/midi_data_x/x\"\n",
    "input_folder_2 = \"../data/midi_data_y_neg/y_neg\"\n",
    "output_folder = \"../data/midi_data_xy_neg/xy_neg\"\n",
    "\n",
    "for file in os.listdir(input_folder_1):\n",
    "    if file.endswith(\".mid\"):\n",
    "        path_1 = os.path.join(input_folder_1, file)\n",
    "        path_2 = os.path.join(input_folder_2, file)\n",
    "        path_out = os.path.join(output_folder, file)\n",
    "        track_1 = muspy.read_midi(path_1, backend='pretty_midi')\n",
    "        track_2 = muspy.read_midi(path_2, backend='pretty_midi')\n",
    "        track_1.tracks.extend(track_2.tracks)\n",
    "        muspy.write_midi(path_out, track_1, backend='pretty_midi')"
   ]
  }
 ],
 "metadata": {
  "kernelspec": {
   "display_name": "mtmt",
   "language": "python",
   "name": "python3"
  },
  "language_info": {
   "codemirror_mode": {
    "name": "ipython",
    "version": 3
   },
   "file_extension": ".py",
   "mimetype": "text/x-python",
   "name": "python",
   "nbconvert_exporter": "python",
   "pygments_lexer": "ipython3",
   "version": "3.9.18"
  }
 },
 "nbformat": 4,
 "nbformat_minor": 2
}
