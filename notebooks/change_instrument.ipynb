{
 "cells": [
  {
   "cell_type": "markdown",
   "metadata": {},
   "source": [
    "### Change instrument of track 2"
   ]
  },
  {
   "cell_type": "code",
   "execution_count": 1,
   "metadata": {},
   "outputs": [],
   "source": [
    "import muspy\n",
    "import os\n",
    "\n",
    "input_folder = '../data/midi_data_xy/xy'\n",
    "output_folder = '../data/midi_data_xy/xy'\n",
    "for file in os.listdir(input_folder):\n",
    "    if file.endswith('.mid'):\n",
    "        # read midi file\n",
    "        midi = muspy.read_midi(os.path.join(input_folder, file), backend='pretty_midi')\n",
    "        # change program (instrument) of track 2 to 41 (violin)\n",
    "        midi.tracks[1].program = 41\n",
    "        # save midi files\n",
    "        muspy.write_midi(os.path.join(output_folder, file), midi, backend='pretty_midi')"
   ]
  },
  {
   "cell_type": "markdown",
   "metadata": {},
   "source": [
    "### Verify changes"
   ]
  },
  {
   "cell_type": "code",
   "execution_count": 3,
   "metadata": {},
   "outputs": [
    {
     "name": "stdout",
     "output_type": "stream",
     "text": [
      "0 : 8\n",
      "0 : 8\n",
      "0 : 8\n",
      "0 : 8\n"
     ]
    }
   ],
   "source": [
    "# verify change\n",
    "for file in os.listdir(output_folder):\n",
    "    if file.endswith('.mid'):\n",
    "        # read midi file\n",
    "        midi = muspy.read_midi(os.path.join(output_folder, file), backend='pretty_midi')\n",
    "        # print program (instrument) of track 2\n",
    "        print(midi.tracks[0].program, ':', midi.tracks[1].program)"
   ]
  }
 ],
 "metadata": {
  "kernelspec": {
   "display_name": "mtmt",
   "language": "python",
   "name": "python3"
  },
  "language_info": {
   "codemirror_mode": {
    "name": "ipython",
    "version": 3
   },
   "file_extension": ".py",
   "mimetype": "text/x-python",
   "name": "python",
   "nbconvert_exporter": "python",
   "pygments_lexer": "ipython3",
   "version": "3.9.18"
  }
 },
 "nbformat": 4,
 "nbformat_minor": 2
}
